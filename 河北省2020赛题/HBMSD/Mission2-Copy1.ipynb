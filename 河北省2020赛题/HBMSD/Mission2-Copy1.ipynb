{
 "cells": [
  {
   "cell_type": "markdown",
   "metadata": {},
   "source": [
    "# 导入数据集"
   ]
  },
  {
   "cell_type": "code",
   "execution_count": 7,
   "metadata": {},
   "outputs": [
    {
     "name": "stdout",
     "output_type": "stream",
     "text": [
      "      Index_Num            starttime resolution  speed  volume  occupancy\n",
      "0            16  2014-02-01T00:35:00    0:05:00    NaN     0.0       0.00\n",
      "1            18  2014-02-01T00:40:00    0:05:00    NaN     0.0       0.00\n",
      "2            20  2014-02-01T00:45:00    0:05:00  67.00     1.0       0.00\n",
      "3            21  2014-02-01T00:50:00    0:05:00  59.14    14.0       1.13\n",
      "4            23  2014-02-01T00:55:00    0:05:00  62.33     3.0       0.17\n",
      "...         ...                  ...        ...    ...     ...        ...\n",
      "5736      15436  2014-02-27T23:00:00    0:05:00  59.33    12.0       0.85\n",
      "5737      15438  2014-02-27T23:05:00    0:05:00  61.55    11.0       1.20\n",
      "5738      15439  2014-02-27T23:10:00    0:05:00  61.25     8.0       0.46\n",
      "5739      15442  2014-02-27T23:15:00    0:05:00  62.00     5.0       0.30\n",
      "5740      15449  2014-02-27T23:35:00    0:05:00  63.33     6.0        NaN\n",
      "\n",
      "[5741 rows x 6 columns]\n"
     ]
    }
   ],
   "source": [
    "import numpy as np\n",
    "import pandas as pd\n",
    "import matplotlib.pyplot as plt\n",
    "from pandas import read_csv\n",
    "f = open('data 2.csv',encoding='UTF-8')\n",
    "names = ['Index_Num','starttime','resolution','speed','volume','occupancy']\n",
    "# filename=input(\"文件名：\")\n",
    "# f=open(filename,encoding='UTF-8')\n",
    "# names=['作业日期','ηCO','ηH2','TF(℃)','TC(℃)','mass','送风流量']\n",
    "data=read_csv(f,names=names,header=1)\n",
    "print(data)"
   ]
  },
  {
   "cell_type": "markdown",
   "metadata": {},
   "source": [
    "# 先处理重复数据"
   ]
  },
  {
   "cell_type": "code",
   "execution_count": 8,
   "metadata": {},
   "outputs": [
    {
     "name": "stdout",
     "output_type": "stream",
     "text": [
      "Index_Num     False\n",
      "starttime     False\n",
      "resolution    False\n",
      "speed          True\n",
      "volume         True\n",
      "occupancy      True\n",
      "dtype: bool\n",
      "***********************************************\n",
      "      Index_Num            starttime resolution  speed  volume  occupancy\n",
      "0            16  2014-02-01T00:35:00    0:05:00    NaN     0.0        0.0\n",
      "1            18  2014-02-01T00:40:00    0:05:00    NaN     0.0        0.0\n",
      "7            35  2014-02-01T01:25:00    0:05:00    NaN     0.0        NaN\n",
      "7            35  2014-02-01T01:25:00    0:05:00    NaN     0.0        NaN\n",
      "8            43  2014-02-01T01:45:00    0:05:00    NaN     0.0        0.0\n",
      "...         ...                  ...        ...    ...     ...        ...\n",
      "5624      15169  2014-02-27T11:55:00    0:05:00    NaN    59.0        7.2\n",
      "5625      15183  2014-02-27T12:30:00    0:05:00  60.48    94.0        NaN\n",
      "5682      15309  2014-02-27T17:45:00    0:05:00  56.03   100.0        NaN\n",
      "5711      15380  2014-02-27T20:40:00    0:05:00  61.39    31.0        NaN\n",
      "5740      15449  2014-02-27T23:35:00    0:05:00  63.33     6.0        NaN\n",
      "\n",
      "[564 rows x 6 columns]\n",
      "***********************************************\n",
      "0       False\n",
      "1       False\n",
      "2       False\n",
      "3       False\n",
      "4       False\n",
      "        ...  \n",
      "5736    False\n",
      "5737    False\n",
      "5738    False\n",
      "5739    False\n",
      "5740    False\n",
      "Name: starttime, Length: 5741, dtype: bool\n"
     ]
    }
   ],
   "source": [
    "print (data.isnull().any())   # 这是按照列统计的空值\n",
    "\n",
    "print(\"***********************************************\")\n",
    "print (data[data.isnull().values==True]) #查看哪些值是空值\n",
    " \n",
    "# 这里涉及到对空值的处理：删除还是替换然后还有填充（这里删除分为有一个空值删除还是有两个空值删除一行。替换可以用特定值替换或者是用平均值替换）\n",
    "# tt.fillna(0,inplace=True)  # 根据本例的特点，空值可以填充0\n",
    "\n",
    "print(\"***********************************************\")\n",
    "\n",
    "print(data.starttime.duplicated())"
   ]
  },
  {
   "cell_type": "code",
   "execution_count": 9,
   "metadata": {},
   "outputs": [
    {
     "name": "stdout",
     "output_type": "stream",
     "text": [
      "Empty DataFrame\n",
      "Columns: [Index_Num, starttime, resolution, speed, volume, occupancy]\n",
      "Index: []\n"
     ]
    }
   ],
   "source": [
    "data.starttime.drop_duplicates(keep=False,inplace=True)\n",
    "#  把重复的值全部删除\n",
    "print(data[data.duplicated(keep=False)])\n",
    "# 检验。现在没有重复值\n"
   ]
  },
  {
   "cell_type": "markdown",
   "metadata": {},
   "source": [
    "# 现在处理缺省值\n"
   ]
  },
  {
   "cell_type": "code",
   "execution_count": 51,
   "metadata": {
    "collapsed": true,
    "jupyter": {
     "outputs_hidden": true,
     "source_hidden": true
    }
   },
   "outputs": [
    {
     "ename": "KeyError",
     "evalue": "Pandas(Index=0, starttime='starttime', speed='speed', volume='volume', occupancy='occupancy')",
     "output_type": "error",
     "traceback": [
      "\u001b[1;31m---------------------------------------------------------------------------\u001b[0m",
      "\u001b[1;31mKeyError\u001b[0m                                  Traceback (most recent call last)",
      "\u001b[1;32m<ipython-input-51-df9b84a4d446>\u001b[0m in \u001b[0;36m<module>\u001b[1;34m\u001b[0m\n\u001b[0;32m      2\u001b[0m \u001b[1;32mfor\u001b[0m \u001b[0mtup\u001b[0m \u001b[1;32min\u001b[0m \u001b[0mdata\u001b[0m\u001b[1;33m.\u001b[0m\u001b[0mitertuples\u001b[0m\u001b[1;33m(\u001b[0m\u001b[1;33m)\u001b[0m\u001b[1;33m:\u001b[0m\u001b[1;33m\u001b[0m\u001b[1;33m\u001b[0m\u001b[0m\n\u001b[0;32m      3\u001b[0m \u001b[1;31m#     print(tup[0],'-->',tup[1::],type(tup[1:]))\u001b[0m\u001b[1;33m\u001b[0m\u001b[1;33m\u001b[0m\u001b[1;33m\u001b[0m\u001b[0m\n\u001b[1;32m----> 4\u001b[1;33m     \u001b[1;32mif\u001b[0m \u001b[0mdata\u001b[0m\u001b[1;33m.\u001b[0m\u001b[0mspeed\u001b[0m\u001b[1;33m[\u001b[0m\u001b[0mtup\u001b[0m\u001b[1;33m]\u001b[0m \u001b[1;33m==\u001b[0m \u001b[0mnan\u001b[0m\u001b[1;33m:\u001b[0m\u001b[1;33m\u001b[0m\u001b[1;33m\u001b[0m\u001b[0m\n\u001b[0m\u001b[0;32m      5\u001b[0m         \u001b[1;32mif\u001b[0m \u001b[0mtup\u001b[0m \u001b[1;33m==\u001b[0m \u001b[1;36m1\u001b[0m \u001b[1;33m:\u001b[0m  \u001b[1;31m#先给第一个缺省值赋值\u001b[0m\u001b[1;33m\u001b[0m\u001b[1;33m\u001b[0m\u001b[0m\n\u001b[0;32m      6\u001b[0m             \u001b[0mtmpcount\u001b[0m \u001b[1;33m=\u001b[0m \u001b[1;36m0\u001b[0m\u001b[1;33m\u001b[0m\u001b[1;33m\u001b[0m\u001b[0m\n",
      "\u001b[1;32mC:\\ProgramData\\Anaconda3\\envs\\mathematical_modeling\\lib\\site-packages\\pandas\\core\\series.py\u001b[0m in \u001b[0;36m__getitem__\u001b[1;34m(self, key)\u001b[0m\n\u001b[0;32m    869\u001b[0m         \u001b[0mkey\u001b[0m \u001b[1;33m=\u001b[0m \u001b[0mcom\u001b[0m\u001b[1;33m.\u001b[0m\u001b[0mapply_if_callable\u001b[0m\u001b[1;33m(\u001b[0m\u001b[0mkey\u001b[0m\u001b[1;33m,\u001b[0m \u001b[0mself\u001b[0m\u001b[1;33m)\u001b[0m\u001b[1;33m\u001b[0m\u001b[1;33m\u001b[0m\u001b[0m\n\u001b[0;32m    870\u001b[0m         \u001b[1;32mtry\u001b[0m\u001b[1;33m:\u001b[0m\u001b[1;33m\u001b[0m\u001b[1;33m\u001b[0m\u001b[0m\n\u001b[1;32m--> 871\u001b[1;33m             \u001b[0mresult\u001b[0m \u001b[1;33m=\u001b[0m \u001b[0mself\u001b[0m\u001b[1;33m.\u001b[0m\u001b[0mindex\u001b[0m\u001b[1;33m.\u001b[0m\u001b[0mget_value\u001b[0m\u001b[1;33m(\u001b[0m\u001b[0mself\u001b[0m\u001b[1;33m,\u001b[0m \u001b[0mkey\u001b[0m\u001b[1;33m)\u001b[0m\u001b[1;33m\u001b[0m\u001b[1;33m\u001b[0m\u001b[0m\n\u001b[0m\u001b[0;32m    872\u001b[0m \u001b[1;33m\u001b[0m\u001b[0m\n\u001b[0;32m    873\u001b[0m             \u001b[1;32mif\u001b[0m \u001b[1;32mnot\u001b[0m \u001b[0mis_scalar\u001b[0m\u001b[1;33m(\u001b[0m\u001b[0mresult\u001b[0m\u001b[1;33m)\u001b[0m\u001b[1;33m:\u001b[0m\u001b[1;33m\u001b[0m\u001b[1;33m\u001b[0m\u001b[0m\n",
      "\u001b[1;32mC:\\ProgramData\\Anaconda3\\envs\\mathematical_modeling\\lib\\site-packages\\pandas\\core\\indexes\\base.py\u001b[0m in \u001b[0;36mget_value\u001b[1;34m(self, series, key)\u001b[0m\n\u001b[0;32m   4402\u001b[0m         \u001b[0mk\u001b[0m \u001b[1;33m=\u001b[0m \u001b[0mself\u001b[0m\u001b[1;33m.\u001b[0m\u001b[0m_convert_scalar_indexer\u001b[0m\u001b[1;33m(\u001b[0m\u001b[0mk\u001b[0m\u001b[1;33m,\u001b[0m \u001b[0mkind\u001b[0m\u001b[1;33m=\u001b[0m\u001b[1;34m\"getitem\"\u001b[0m\u001b[1;33m)\u001b[0m\u001b[1;33m\u001b[0m\u001b[1;33m\u001b[0m\u001b[0m\n\u001b[0;32m   4403\u001b[0m         \u001b[1;32mtry\u001b[0m\u001b[1;33m:\u001b[0m\u001b[1;33m\u001b[0m\u001b[1;33m\u001b[0m\u001b[0m\n\u001b[1;32m-> 4404\u001b[1;33m             \u001b[1;32mreturn\u001b[0m \u001b[0mself\u001b[0m\u001b[1;33m.\u001b[0m\u001b[0m_engine\u001b[0m\u001b[1;33m.\u001b[0m\u001b[0mget_value\u001b[0m\u001b[1;33m(\u001b[0m\u001b[0ms\u001b[0m\u001b[1;33m,\u001b[0m \u001b[0mk\u001b[0m\u001b[1;33m,\u001b[0m \u001b[0mtz\u001b[0m\u001b[1;33m=\u001b[0m\u001b[0mgetattr\u001b[0m\u001b[1;33m(\u001b[0m\u001b[0mseries\u001b[0m\u001b[1;33m.\u001b[0m\u001b[0mdtype\u001b[0m\u001b[1;33m,\u001b[0m \u001b[1;34m\"tz\"\u001b[0m\u001b[1;33m,\u001b[0m \u001b[1;32mNone\u001b[0m\u001b[1;33m)\u001b[0m\u001b[1;33m)\u001b[0m\u001b[1;33m\u001b[0m\u001b[1;33m\u001b[0m\u001b[0m\n\u001b[0m\u001b[0;32m   4405\u001b[0m         \u001b[1;32mexcept\u001b[0m \u001b[0mKeyError\u001b[0m \u001b[1;32mas\u001b[0m \u001b[0me1\u001b[0m\u001b[1;33m:\u001b[0m\u001b[1;33m\u001b[0m\u001b[1;33m\u001b[0m\u001b[0m\n\u001b[0;32m   4406\u001b[0m             \u001b[1;32mif\u001b[0m \u001b[0mlen\u001b[0m\u001b[1;33m(\u001b[0m\u001b[0mself\u001b[0m\u001b[1;33m)\u001b[0m \u001b[1;33m>\u001b[0m \u001b[1;36m0\u001b[0m \u001b[1;32mand\u001b[0m \u001b[1;33m(\u001b[0m\u001b[0mself\u001b[0m\u001b[1;33m.\u001b[0m\u001b[0mholds_integer\u001b[0m\u001b[1;33m(\u001b[0m\u001b[1;33m)\u001b[0m \u001b[1;32mor\u001b[0m \u001b[0mself\u001b[0m\u001b[1;33m.\u001b[0m\u001b[0mis_boolean\u001b[0m\u001b[1;33m(\u001b[0m\u001b[1;33m)\u001b[0m\u001b[1;33m)\u001b[0m\u001b[1;33m:\u001b[0m\u001b[1;33m\u001b[0m\u001b[1;33m\u001b[0m\u001b[0m\n",
      "\u001b[1;32mpandas\\_libs\\index.pyx\u001b[0m in \u001b[0;36mpandas._libs.index.IndexEngine.get_value\u001b[1;34m()\u001b[0m\n",
      "\u001b[1;32mpandas\\_libs\\index.pyx\u001b[0m in \u001b[0;36mpandas._libs.index.IndexEngine.get_value\u001b[1;34m()\u001b[0m\n",
      "\u001b[1;32mpandas\\_libs\\index.pyx\u001b[0m in \u001b[0;36mpandas._libs.index.IndexEngine.get_loc\u001b[1;34m()\u001b[0m\n",
      "\u001b[1;32mpandas\\_libs\\index_class_helper.pxi\u001b[0m in \u001b[0;36mpandas._libs.index.Int64Engine._check_type\u001b[1;34m()\u001b[0m\n",
      "\u001b[1;31mKeyError\u001b[0m: Pandas(Index=0, starttime='starttime', speed='speed', volume='volume', occupancy='occupancy')"
     ]
    }
   ],
   "source": [
    "#https://blog.csdn.net/lwgkzl/article/details/80948548\n",
    "for tup in data.itertuples():\n",
    "#     print(tup[0],'-->',tup[1::],type(tup[1:]))\n",
    "    if data.speed[tup] == nan:\n",
    "        if tup == 1 :  #先给第一个缺省值赋值\n",
    "            tmpcount = 0\n",
    "            while data.speed[tup+tmpcount] == nan :\n",
    "                tmpcount+=1\n",
    "            data.speed[tup] = data.speed[tup+tmpcount]\n",
    "        elif tup >2 and tup <= data.shape[0]: #或者使用 len(data)\n",
    "            tmpcount = 0\n",
    "            while data.speed[tup+tmpcount] == nan :\n",
    "                tmpcount+=1\n",
    "            data.speed[tup] = (data.speed[tup-1]+data.speed[tup+tmpcount])/2\n",
    "        elif tup == data.shape[0]+1:\n",
    "            data.speed[tup] = data.speed[tup-1]\n",
    "    "
   ]
  },
  {
   "cell_type": "code",
   "execution_count": 15,
   "metadata": {},
   "outputs": [
    {
     "name": "stdout",
     "output_type": "stream",
     "text": [
      "      Index_Num            starttime resolution  speed  volume  occupancy\n",
      "0            16  2014-02-01T00:35:00    0:05:00    NaN     0.0       0.00\n",
      "1            18  2014-02-01T00:40:00    0:05:00  67.00     0.0       0.00\n",
      "2            20  2014-02-01T00:45:00    0:05:00  67.00     1.0       0.00\n",
      "3            21  2014-02-01T00:50:00    0:05:00  59.14    14.0       1.13\n",
      "4            23  2014-02-01T00:55:00    0:05:00  62.33     3.0       0.17\n",
      "...         ...                  ...        ...    ...     ...        ...\n",
      "5736      15436  2014-02-27T23:00:00    0:05:00  59.33    12.0       0.85\n",
      "5737      15438  2014-02-27T23:05:00    0:05:00  61.55    11.0       1.20\n",
      "5738      15439  2014-02-27T23:10:00    0:05:00  61.25     8.0       0.46\n",
      "5739      15442  2014-02-27T23:15:00    0:05:00  62.00     5.0       0.30\n",
      "5740      15449  2014-02-27T23:35:00    0:05:00  63.33     6.0       0.30\n",
      "\n",
      "[5741 rows x 6 columns]\n"
     ]
    }
   ],
   "source": [
    "#这里有个问题，就是当我们面临一大堆nan的时候，是否应该根据时间\n",
    "#speed缺省值填补\n",
    "count = 1\n",
    "for count in range(data.shape[0]):\n",
    "#     print(tup[0],'-->',tup[1::],type(tup[1:]))\n",
    "    speedtmp = data.loc[count,[\"speed\"]].values\n",
    "#     print(speedtmp)\n",
    "#     print(speedtmp.dtype)\n",
    "    if pd.isnull(speedtmp) :\n",
    "        if count == 1 :  #先给第一个缺省值赋值\n",
    "            tmpcount = 0\n",
    "            while pd.isnull(data.loc[count+tmpcount,[\"speed\"]].values) :\n",
    "                tmpcount+=1\n",
    "            data.loc[count,[\"speed\"]] = data.loc[count+tmpcount,[\"speed\"]]\n",
    "            print(\"speed第一行为空\")\n",
    "        elif count >2 and count <= data.shape[0]: #或者使用 len(data)\n",
    "            tmpcount = 0\n",
    "            while pd.isnull(data.loc[count+tmpcount,[\"speed\"]].values) :\n",
    "                tmpcount+=1\n",
    "            data.loc[count,[\"speed\"]] = (data.loc[count-1,[\"speed\"]].values.astype(float)+data.loc[count+tmpcount,[\"speed\"]].values.astype(float))/2\n",
    "            print(count ,\"speed修改成功\")\n",
    "        elif count == data.shape[0]+1:\n",
    "            data.loc[count,[\"speed\"]] = data.loc[count-1,[\"speed\"]]\n",
    "            print(\"speed最后一行为空\")\n",
    "    else :\n",
    "        pass\n",
    "    \n",
    "#volume缺省值填补\n",
    "count = 1\n",
    "for count in range(data.shape[0]):\n",
    "#     print(tup[0],'-->',tup[1::],type(tup[1:]))\n",
    "    volumetmp = data.loc[count,[\"volume\"]].values\n",
    "#     print(speedtmp)\n",
    "#     print(speedtmp.dtype)\n",
    "    if pd.isnull(volumetmp) :\n",
    "        if count == 1 :  #先给第一个缺省值赋值\n",
    "            tmpcount = 0\n",
    "            while pd.isnull(data.loc[count+tmpcount,[\"volume\"]].values) :\n",
    "                tmpcount+=1\n",
    "            data.loc[count,[\"volume\"]] = data.loc[count+tmpcount,[\"volume\"]]\n",
    "            print(\"volume第一行为空\")\n",
    "        elif count >2 and count <= data.shape[0]: #或者使用 len(data)\n",
    "            tmpcount = 0\n",
    "            while pd.isnull(data.loc[count+tmpcount,[\"volume\"]].values) :\n",
    "                tmpcount+=1\n",
    "            data.loc[count,[\"volume\"]] = (data.loc[count-1,[\"volume\"]].values.astype(float)+data.loc[count+tmpcount,[\"volume\"]].values.astype(float))/2\n",
    "            print(count ,\"volume修改成功\")\n",
    "        elif count == data.shape[0]+1:\n",
    "            data.loc[count,[\"volume\"]] = data.loc[count-1,[\"volume\"]]\n",
    "            print(\"volume最后一行为空\")\n",
    "    else :\n",
    "        pass\n",
    "    \n",
    "#occupancy缺省值填补\n",
    "count = 1\n",
    "for count in range(data.shape[0]):\n",
    "#     print(tup[0],'-->',tup[1::],type(tup[1:]))\n",
    "    occupancytmp = data.loc[count,[\"occupancy\"]].values\n",
    "#     print(speedtmp)\n",
    "#     print(speedtmp.dtype)\n",
    "    if pd.isnull(occupancytmp) :\n",
    "        if count == 1 :  #先给第一个缺省值赋值\n",
    "            tmpcount = 0\n",
    "            while pd.isnull(data.loc[count+tmpcount,[\"occupancy\"]].values) :\n",
    "                tmpcount+=1\n",
    "            data.loc[count,[\"occupancy\"]] = data.loc[count+tmpcount,[\"occupancy\"]]\n",
    "            print(\"occupancy第一行为空\")\n",
    "        elif count >2 and count <= (data.shape[0]-1): #或者使用 len(data)\n",
    "            tmpcount = 0\n",
    "            while pd.isnull(data.loc[count+tmpcount,[\"occupancy\"]].values) :\n",
    "                tmpcount+=1\n",
    "                if ((count+tmpcount) > (data.shape[0]-1)):\n",
    "                    data.loc[count,[\"occupancy\"]] = data.loc[count-1,[\"occupancy\"]]\n",
    "                    break\n",
    "            if ((count+tmpcount) <= (data.shape[0]-1)):\n",
    "                data.loc[count,[\"occupancy\"]] = (data.loc[count-1,[\"occupancy\"]].values.astype(float)+data.loc[count+tmpcount,[\"occupancy\"]].values.astype(float))/2\n",
    "            else :\n",
    "                pass\n",
    "            \n",
    "            print(count ,\"occupancy修改成功\")\n",
    "        elif count == data.shape[0]+1:\n",
    "            data.loc[count,[\"occupancy\"]] = data.loc[count-1,[\"occupancy\"]]\n",
    "            print(\"occupancy最后一行为空\")\n",
    "    else :\n",
    "        pass\n",
    "    \n",
    "print (data)\n",
    "    \n"
   ]
  },
  {
   "cell_type": "code",
   "execution_count": 16,
   "metadata": {},
   "outputs": [
    {
     "name": "stdout",
     "output_type": "stream",
     "text": [
      "<class 'pandas.core.frame.DataFrame'>\n",
      "RangeIndex: 5741 entries, 0 to 5740\n",
      "Data columns (total 6 columns):\n",
      " #   Column      Non-Null Count  Dtype  \n",
      "---  ------      --------------  -----  \n",
      " 0   Index_Num   5741 non-null   int64  \n",
      " 1   starttime   5741 non-null   object \n",
      " 2   resolution  5741 non-null   object \n",
      " 3   speed       5740 non-null   float64\n",
      " 4   volume      5741 non-null   float64\n",
      " 5   occupancy   5741 non-null   float64\n",
      "dtypes: float64(3), int64(1), object(2)\n",
      "memory usage: 269.2+ KB\n"
     ]
    }
   ],
   "source": [
    "#显示data的相关信息\n",
    "data.dtypes\n",
    "data.info()"
   ]
  },
  {
   "cell_type": "code",
   "execution_count": 106,
   "metadata": {},
   "outputs": [
    {
     "data": {
      "text/plain": [
       "starttime    2009-01-31T00:00:00\n",
       "speed                    142.738\n",
       "volume                   182.151\n",
       "occupancy                107.653\n",
       "dtype: object"
      ]
     },
     "execution_count": 106,
     "metadata": {},
     "output_type": "execute_result"
    }
   ],
   "source": [
    "#各种统计量\n",
    "# data.count() #计数方法count只记非nan值 (axis=1 按列)\n",
    "# data.describe() #总统计值\n",
    "# data.max() #最值、累加\n",
    "# data.min()\n",
    "# data.sum()\n",
    "# data.quantile()  #中位数 quantile median\n",
    "# data.median()   \n",
    "# data.idxmax()  #最大值的索引值\n",
    "# #data.argmax()#在0.21版本中删除了\n",
    "# data.mad(axis=1)   #偏科程度（判断一组数据的最大值和最小值差别是不是很大）\n",
    "# data.cumsum()  # 样本值累计和\n",
    "# data.pct_change()  #变化率\n",
    "\n"
   ]
  },
  {
   "cell_type": "markdown",
   "metadata": {},
   "source": [
    "#  画图\n"
   ]
  },
  {
   "cell_type": "code",
   "execution_count": 17,
   "metadata": {},
   "outputs": [],
   "source": [
    "#建立一个专门为画图而生的dataframe\n",
    "data_for_plot = data[['speed','volume','occupancy']]"
   ]
  },
  {
   "cell_type": "code",
   "execution_count": 18,
   "metadata": {},
   "outputs": [
    {
     "data": {
      "image/png": "[encoded data removed]",
      "text/plain": [
       "<Figure size 432x288 with 1 Axes>"
      ]
     },
     "metadata": {
      "needs_background": "light"
     },
     "output_type": "display_data"
    }
   ],
   "source": [
    "# kind='bar'是柱形图，默认为line\n",
    "data_for_plot.plot(kind='bar')\n",
    "plt.show()"
   ]
  },
  {
   "cell_type": "code",
   "execution_count": 19,
   "metadata": {},
   "outputs": [
    {
     "data": {
      "text/plain": [
       "<matplotlib.axes._subplots.AxesSubplot at 0x158e89d9388>"
      ]
     },
     "execution_count": 19,
     "metadata": {},
     "output_type": "execute_result"
    },
    {
     "data": {
      "image/png": "[encoded data removed]",
      "text/plain": [
       "<Figure size 432x288 with 1 Axes>"
      ]
     },
     "metadata": {
      "needs_background": "light"
     },
     "output_type": "display_data"
    }
   ],
   "source": [
    "# 横柱形图\n",
    "data_for_plot.plot(kind='barh')"
   ]
  },
  {
   "cell_type": "code",
   "execution_count": 20,
   "metadata": {},
   "outputs": [
    {
     "data": {
      "image/png": "[encoded data removed]",
      "text/plain": [
       "<Figure size 432x288 with 1 Axes>"
      ]
     },
     "metadata": {
      "needs_background": "light"
     },
     "output_type": "display_data"
    }
   ],
   "source": [
    "# stacked=True堆叠\n",
    "data_for_plot.plot(kind='bar',stacked=True)\n",
    "plt.show()"
   ]
  },
  {
   "cell_type": "code",
   "execution_count": 21,
   "metadata": {},
   "outputs": [
    {
     "data": {
      "image/png": "[encoded data removed]",
      "text/plain": [
       "<Figure size 432x288 with 1 Axes>"
      ]
     },
     "metadata": {
      "needs_background": "light"
     },
     "output_type": "display_data"
    }
   ],
   "source": [
    "#曲线覆盖面积图\n",
    "data_for_plot.plot(kind='area')\n",
    "plt.show()"
   ]
  },
  {
   "cell_type": "code",
   "execution_count": 22,
   "metadata": {},
   "outputs": [
    {
     "data": {
      "image/png": "[encoded data removed]",
      "text/plain": [
       "<Figure size 432x288 with 1 Axes>"
      ]
     },
     "metadata": {
      "needs_background": "light"
     },
     "output_type": "display_data"
    }
   ],
   "source": [
    "# 画一行\n",
    "data_for_plot.iloc[10].plot()\n",
    "plt.show()"
   ]
  },
  {
   "cell_type": "code",
   "execution_count": 23,
   "metadata": {},
   "outputs": [
    {
     "data": {
      "image/png": "[encoded data removed]",
      "text/plain": [
       "<Figure size 432x288 with 1 Axes>"
      ]
     },
     "metadata": {
      "needs_background": "light"
     },
     "output_type": "display_data"
    }
   ],
   "source": [
    "# 画10行\n",
    "for i in range(10):\n",
    "# for i in data.index:\n",
    "    data_for_plot.iloc[i].plot(label=str(i))\n",
    "plt.legend()\n",
    "plt.show()"
   ]
  },
  {
   "cell_type": "code",
   "execution_count": 24,
   "metadata": {},
   "outputs": [
    {
     "data": {
      "image/png": "[encoded data removed]",
      "text/plain": [
       "<Figure size 432x288 with 1 Axes>"
      ]
     },
     "metadata": {
      "needs_background": "light"
     },
     "output_type": "display_data"
    }
   ],
   "source": [
    "# 画一列\n",
    "data_for_plot['speed'].plot()\n",
    "plt.show()"
   ]
  },
  {
   "cell_type": "code",
   "execution_count": 140,
   "metadata": {
    "collapsed": true,
    "jupyter": {
     "outputs_hidden": true
    }
   },
   "outputs": [
    {
     "ename": "ValueError",
     "evalue": "Image size of 386x129547 pixels is too large. It must be less than 2^16 in each direction.",
     "output_type": "error",
     "traceback": [
      "\u001b[1;31m---------------------------------------------------------------------------\u001b[0m",
      "\u001b[1;31mValueError\u001b[0m                                Traceback (most recent call last)",
      "\u001b[1;32mC:\\ProgramData\\Anaconda3\\envs\\mathematical_modeling\\lib\\site-packages\\IPython\\core\\formatters.py\u001b[0m in \u001b[0;36m__call__\u001b[1;34m(self, obj)\u001b[0m\n\u001b[0;32m    339\u001b[0m                 \u001b[1;32mpass\u001b[0m\u001b[1;33m\u001b[0m\u001b[1;33m\u001b[0m\u001b[0m\n\u001b[0;32m    340\u001b[0m             \u001b[1;32melse\u001b[0m\u001b[1;33m:\u001b[0m\u001b[1;33m\u001b[0m\u001b[1;33m\u001b[0m\u001b[0m\n\u001b[1;32m--> 341\u001b[1;33m                 \u001b[1;32mreturn\u001b[0m \u001b[0mprinter\u001b[0m\u001b[1;33m(\u001b[0m\u001b[0mobj\u001b[0m\u001b[1;33m)\u001b[0m\u001b[1;33m\u001b[0m\u001b[1;33m\u001b[0m\u001b[0m\n\u001b[0m\u001b[0;32m    342\u001b[0m             \u001b[1;31m# Finally look for special method names\u001b[0m\u001b[1;33m\u001b[0m\u001b[1;33m\u001b[0m\u001b[1;33m\u001b[0m\u001b[0m\n\u001b[0;32m    343\u001b[0m             \u001b[0mmethod\u001b[0m \u001b[1;33m=\u001b[0m \u001b[0mget_real_method\u001b[0m\u001b[1;33m(\u001b[0m\u001b[0mobj\u001b[0m\u001b[1;33m,\u001b[0m \u001b[0mself\u001b[0m\u001b[1;33m.\u001b[0m\u001b[0mprint_method\u001b[0m\u001b[1;33m)\u001b[0m\u001b[1;33m\u001b[0m\u001b[1;33m\u001b[0m\u001b[0m\n",
      "\u001b[1;32mC:\\ProgramData\\Anaconda3\\envs\\mathematical_modeling\\lib\\site-packages\\IPython\\core\\pylabtools.py\u001b[0m in \u001b[0;36m<lambda>\u001b[1;34m(fig)\u001b[0m\n\u001b[0;32m    246\u001b[0m \u001b[1;33m\u001b[0m\u001b[0m\n\u001b[0;32m    247\u001b[0m     \u001b[1;32mif\u001b[0m \u001b[1;34m'png'\u001b[0m \u001b[1;32min\u001b[0m \u001b[0mformats\u001b[0m\u001b[1;33m:\u001b[0m\u001b[1;33m\u001b[0m\u001b[1;33m\u001b[0m\u001b[0m\n\u001b[1;32m--> 248\u001b[1;33m         \u001b[0mpng_formatter\u001b[0m\u001b[1;33m.\u001b[0m\u001b[0mfor_type\u001b[0m\u001b[1;33m(\u001b[0m\u001b[0mFigure\u001b[0m\u001b[1;33m,\u001b[0m \u001b[1;32mlambda\u001b[0m \u001b[0mfig\u001b[0m\u001b[1;33m:\u001b[0m \u001b[0mprint_figure\u001b[0m\u001b[1;33m(\u001b[0m\u001b[0mfig\u001b[0m\u001b[1;33m,\u001b[0m \u001b[1;34m'png'\u001b[0m\u001b[1;33m,\u001b[0m \u001b[1;33m**\u001b[0m\u001b[0mkwargs\u001b[0m\u001b[1;33m)\u001b[0m\u001b[1;33m)\u001b[0m\u001b[1;33m\u001b[0m\u001b[1;33m\u001b[0m\u001b[0m\n\u001b[0m\u001b[0;32m    249\u001b[0m     \u001b[1;32mif\u001b[0m \u001b[1;34m'retina'\u001b[0m \u001b[1;32min\u001b[0m \u001b[0mformats\u001b[0m \u001b[1;32mor\u001b[0m \u001b[1;34m'png2x'\u001b[0m \u001b[1;32min\u001b[0m \u001b[0mformats\u001b[0m\u001b[1;33m:\u001b[0m\u001b[1;33m\u001b[0m\u001b[1;33m\u001b[0m\u001b[0m\n\u001b[0;32m    250\u001b[0m         \u001b[0mpng_formatter\u001b[0m\u001b[1;33m.\u001b[0m\u001b[0mfor_type\u001b[0m\u001b[1;33m(\u001b[0m\u001b[0mFigure\u001b[0m\u001b[1;33m,\u001b[0m \u001b[1;32mlambda\u001b[0m \u001b[0mfig\u001b[0m\u001b[1;33m:\u001b[0m \u001b[0mretina_figure\u001b[0m\u001b[1;33m(\u001b[0m\u001b[0mfig\u001b[0m\u001b[1;33m,\u001b[0m \u001b[1;33m**\u001b[0m\u001b[0mkwargs\u001b[0m\u001b[1;33m)\u001b[0m\u001b[1;33m)\u001b[0m\u001b[1;33m\u001b[0m\u001b[1;33m\u001b[0m\u001b[0m\n",
      "\u001b[1;32mC:\\ProgramData\\Anaconda3\\envs\\mathematical_modeling\\lib\\site-packages\\IPython\\core\\pylabtools.py\u001b[0m in \u001b[0;36mprint_figure\u001b[1;34m(fig, fmt, bbox_inches, **kwargs)\u001b[0m\n\u001b[0;32m    130\u001b[0m         \u001b[0mFigureCanvasBase\u001b[0m\u001b[1;33m(\u001b[0m\u001b[0mfig\u001b[0m\u001b[1;33m)\u001b[0m\u001b[1;33m\u001b[0m\u001b[1;33m\u001b[0m\u001b[0m\n\u001b[0;32m    131\u001b[0m \u001b[1;33m\u001b[0m\u001b[0m\n\u001b[1;32m--> 132\u001b[1;33m     \u001b[0mfig\u001b[0m\u001b[1;33m.\u001b[0m\u001b[0mcanvas\u001b[0m\u001b[1;33m.\u001b[0m\u001b[0mprint_figure\u001b[0m\u001b[1;33m(\u001b[0m\u001b[0mbytes_io\u001b[0m\u001b[1;33m,\u001b[0m \u001b[1;33m**\u001b[0m\u001b[0mkw\u001b[0m\u001b[1;33m)\u001b[0m\u001b[1;33m\u001b[0m\u001b[1;33m\u001b[0m\u001b[0m\n\u001b[0m\u001b[0;32m    133\u001b[0m     \u001b[0mdata\u001b[0m \u001b[1;33m=\u001b[0m \u001b[0mbytes_io\u001b[0m\u001b[1;33m.\u001b[0m\u001b[0mgetvalue\u001b[0m\u001b[1;33m(\u001b[0m\u001b[1;33m)\u001b[0m\u001b[1;33m\u001b[0m\u001b[1;33m\u001b[0m\u001b[0m\n\u001b[0;32m    134\u001b[0m     \u001b[1;32mif\u001b[0m \u001b[0mfmt\u001b[0m \u001b[1;33m==\u001b[0m \u001b[1;34m'svg'\u001b[0m\u001b[1;33m:\u001b[0m\u001b[1;33m\u001b[0m\u001b[1;33m\u001b[0m\u001b[0m\n",
      "\u001b[1;32mC:\\ProgramData\\Anaconda3\\envs\\mathematical_modeling\\lib\\site-packages\\matplotlib\\backend_bases.py\u001b[0m in \u001b[0;36mprint_figure\u001b[1;34m(self, filename, dpi, facecolor, edgecolor, orientation, format, bbox_inches, **kwargs)\u001b[0m\n\u001b[0;32m   2089\u001b[0m                     \u001b[0morientation\u001b[0m\u001b[1;33m=\u001b[0m\u001b[0morientation\u001b[0m\u001b[1;33m,\u001b[0m\u001b[1;33m\u001b[0m\u001b[1;33m\u001b[0m\u001b[0m\n\u001b[0;32m   2090\u001b[0m                     \u001b[0mbbox_inches_restore\u001b[0m\u001b[1;33m=\u001b[0m\u001b[0m_bbox_inches_restore\u001b[0m\u001b[1;33m,\u001b[0m\u001b[1;33m\u001b[0m\u001b[1;33m\u001b[0m\u001b[0m\n\u001b[1;32m-> 2091\u001b[1;33m                     **kwargs)\n\u001b[0m\u001b[0;32m   2092\u001b[0m             \u001b[1;32mfinally\u001b[0m\u001b[1;33m:\u001b[0m\u001b[1;33m\u001b[0m\u001b[1;33m\u001b[0m\u001b[0m\n\u001b[0;32m   2093\u001b[0m                 \u001b[1;32mif\u001b[0m \u001b[0mbbox_inches\u001b[0m \u001b[1;32mand\u001b[0m \u001b[0mrestore_bbox\u001b[0m\u001b[1;33m:\u001b[0m\u001b[1;33m\u001b[0m\u001b[1;33m\u001b[0m\u001b[0m\n",
      "\u001b[1;32mC:\\ProgramData\\Anaconda3\\envs\\mathematical_modeling\\lib\\site-packages\\matplotlib\\backends\\backend_agg.py\u001b[0m in \u001b[0;36mprint_png\u001b[1;34m(self, filename_or_obj, metadata, pil_kwargs, *args, **kwargs)\u001b[0m\n\u001b[0;32m    525\u001b[0m \u001b[1;33m\u001b[0m\u001b[0m\n\u001b[0;32m    526\u001b[0m         \u001b[1;32melse\u001b[0m\u001b[1;33m:\u001b[0m\u001b[1;33m\u001b[0m\u001b[1;33m\u001b[0m\u001b[0m\n\u001b[1;32m--> 527\u001b[1;33m             \u001b[0mFigureCanvasAgg\u001b[0m\u001b[1;33m.\u001b[0m\u001b[0mdraw\u001b[0m\u001b[1;33m(\u001b[0m\u001b[0mself\u001b[0m\u001b[1;33m)\u001b[0m\u001b[1;33m\u001b[0m\u001b[1;33m\u001b[0m\u001b[0m\n\u001b[0m\u001b[0;32m    528\u001b[0m             \u001b[0mrenderer\u001b[0m \u001b[1;33m=\u001b[0m \u001b[0mself\u001b[0m\u001b[1;33m.\u001b[0m\u001b[0mget_renderer\u001b[0m\u001b[1;33m(\u001b[0m\u001b[1;33m)\u001b[0m\u001b[1;33m\u001b[0m\u001b[1;33m\u001b[0m\u001b[0m\n\u001b[0;32m    529\u001b[0m             \u001b[1;32mwith\u001b[0m \u001b[0mcbook\u001b[0m\u001b[1;33m.\u001b[0m\u001b[0m_setattr_cm\u001b[0m\u001b[1;33m(\u001b[0m\u001b[0mrenderer\u001b[0m\u001b[1;33m,\u001b[0m \u001b[0mdpi\u001b[0m\u001b[1;33m=\u001b[0m\u001b[0mself\u001b[0m\u001b[1;33m.\u001b[0m\u001b[0mfigure\u001b[0m\u001b[1;33m.\u001b[0m\u001b[0mdpi\u001b[0m\u001b[1;33m)\u001b[0m\u001b[1;33m,\u001b[0m\u001b[0;31m \u001b[0m\u001b[0;31m\\\u001b[0m\u001b[1;33m\u001b[0m\u001b[1;33m\u001b[0m\u001b[0m\n",
      "\u001b[1;32mC:\\ProgramData\\Anaconda3\\envs\\mathematical_modeling\\lib\\site-packages\\matplotlib\\backends\\backend_agg.py\u001b[0m in \u001b[0;36mdraw\u001b[1;34m(self)\u001b[0m\n\u001b[0;32m    384\u001b[0m         \u001b[0mDraw\u001b[0m \u001b[0mthe\u001b[0m \u001b[0mfigure\u001b[0m \u001b[0musing\u001b[0m \u001b[0mthe\u001b[0m \u001b[0mrenderer\u001b[0m\u001b[1;33m.\u001b[0m\u001b[1;33m\u001b[0m\u001b[1;33m\u001b[0m\u001b[0m\n\u001b[0;32m    385\u001b[0m         \"\"\"\n\u001b[1;32m--> 386\u001b[1;33m         \u001b[0mself\u001b[0m\u001b[1;33m.\u001b[0m\u001b[0mrenderer\u001b[0m \u001b[1;33m=\u001b[0m \u001b[0mself\u001b[0m\u001b[1;33m.\u001b[0m\u001b[0mget_renderer\u001b[0m\u001b[1;33m(\u001b[0m\u001b[0mcleared\u001b[0m\u001b[1;33m=\u001b[0m\u001b[1;32mTrue\u001b[0m\u001b[1;33m)\u001b[0m\u001b[1;33m\u001b[0m\u001b[1;33m\u001b[0m\u001b[0m\n\u001b[0m\u001b[0;32m    387\u001b[0m         \u001b[1;32mwith\u001b[0m \u001b[0mRendererAgg\u001b[0m\u001b[1;33m.\u001b[0m\u001b[0mlock\u001b[0m\u001b[1;33m:\u001b[0m\u001b[1;33m\u001b[0m\u001b[1;33m\u001b[0m\u001b[0m\n\u001b[0;32m    388\u001b[0m             \u001b[0mself\u001b[0m\u001b[1;33m.\u001b[0m\u001b[0mfigure\u001b[0m\u001b[1;33m.\u001b[0m\u001b[0mdraw\u001b[0m\u001b[1;33m(\u001b[0m\u001b[0mself\u001b[0m\u001b[1;33m.\u001b[0m\u001b[0mrenderer\u001b[0m\u001b[1;33m)\u001b[0m\u001b[1;33m\u001b[0m\u001b[1;33m\u001b[0m\u001b[0m\n",
      "\u001b[1;32mC:\\ProgramData\\Anaconda3\\envs\\mathematical_modeling\\lib\\site-packages\\matplotlib\\backends\\backend_agg.py\u001b[0m in \u001b[0;36mget_renderer\u001b[1;34m(self, cleared)\u001b[0m\n\u001b[0;32m    397\u001b[0m                           and getattr(self, \"_lastKey\", None) == key)\n\u001b[0;32m    398\u001b[0m         \u001b[1;32mif\u001b[0m \u001b[1;32mnot\u001b[0m \u001b[0mreuse_renderer\u001b[0m\u001b[1;33m:\u001b[0m\u001b[1;33m\u001b[0m\u001b[1;33m\u001b[0m\u001b[0m\n\u001b[1;32m--> 399\u001b[1;33m             \u001b[0mself\u001b[0m\u001b[1;33m.\u001b[0m\u001b[0mrenderer\u001b[0m \u001b[1;33m=\u001b[0m \u001b[0mRendererAgg\u001b[0m\u001b[1;33m(\u001b[0m\u001b[0mw\u001b[0m\u001b[1;33m,\u001b[0m \u001b[0mh\u001b[0m\u001b[1;33m,\u001b[0m \u001b[0mself\u001b[0m\u001b[1;33m.\u001b[0m\u001b[0mfigure\u001b[0m\u001b[1;33m.\u001b[0m\u001b[0mdpi\u001b[0m\u001b[1;33m)\u001b[0m\u001b[1;33m\u001b[0m\u001b[1;33m\u001b[0m\u001b[0m\n\u001b[0m\u001b[0;32m    400\u001b[0m             \u001b[0mself\u001b[0m\u001b[1;33m.\u001b[0m\u001b[0m_lastKey\u001b[0m \u001b[1;33m=\u001b[0m \u001b[0mkey\u001b[0m\u001b[1;33m\u001b[0m\u001b[1;33m\u001b[0m\u001b[0m\n\u001b[0;32m    401\u001b[0m         \u001b[1;32melif\u001b[0m \u001b[0mcleared\u001b[0m\u001b[1;33m:\u001b[0m\u001b[1;33m\u001b[0m\u001b[1;33m\u001b[0m\u001b[0m\n",
      "\u001b[1;32mC:\\ProgramData\\Anaconda3\\envs\\mathematical_modeling\\lib\\site-packages\\matplotlib\\backends\\backend_agg.py\u001b[0m in \u001b[0;36m__init__\u001b[1;34m(self, width, height, dpi)\u001b[0m\n\u001b[0;32m     84\u001b[0m         \u001b[0mself\u001b[0m\u001b[1;33m.\u001b[0m\u001b[0mwidth\u001b[0m \u001b[1;33m=\u001b[0m \u001b[0mwidth\u001b[0m\u001b[1;33m\u001b[0m\u001b[1;33m\u001b[0m\u001b[0m\n\u001b[0;32m     85\u001b[0m         \u001b[0mself\u001b[0m\u001b[1;33m.\u001b[0m\u001b[0mheight\u001b[0m \u001b[1;33m=\u001b[0m \u001b[0mheight\u001b[0m\u001b[1;33m\u001b[0m\u001b[1;33m\u001b[0m\u001b[0m\n\u001b[1;32m---> 86\u001b[1;33m         \u001b[0mself\u001b[0m\u001b[1;33m.\u001b[0m\u001b[0m_renderer\u001b[0m \u001b[1;33m=\u001b[0m \u001b[0m_RendererAgg\u001b[0m\u001b[1;33m(\u001b[0m\u001b[0mint\u001b[0m\u001b[1;33m(\u001b[0m\u001b[0mwidth\u001b[0m\u001b[1;33m)\u001b[0m\u001b[1;33m,\u001b[0m \u001b[0mint\u001b[0m\u001b[1;33m(\u001b[0m\u001b[0mheight\u001b[0m\u001b[1;33m)\u001b[0m\u001b[1;33m,\u001b[0m \u001b[0mdpi\u001b[0m\u001b[1;33m)\u001b[0m\u001b[1;33m\u001b[0m\u001b[1;33m\u001b[0m\u001b[0m\n\u001b[0m\u001b[0;32m     87\u001b[0m         \u001b[0mself\u001b[0m\u001b[1;33m.\u001b[0m\u001b[0m_filter_renderers\u001b[0m \u001b[1;33m=\u001b[0m \u001b[1;33m[\u001b[0m\u001b[1;33m]\u001b[0m\u001b[1;33m\u001b[0m\u001b[1;33m\u001b[0m\u001b[0m\n\u001b[0;32m     88\u001b[0m \u001b[1;33m\u001b[0m\u001b[0m\n",
      "\u001b[1;31mValueError\u001b[0m: Image size of 386x129547 pixels is too large. It must be less than 2^16 in each direction."
     ]
    },
    {
     "data": {
      "text/plain": [
       "<Figure size 432x288 with 1 Axes>"
      ]
     },
     "metadata": {
      "needs_background": "light"
     },
     "output_type": "display_data"
    }
   ],
   "source": [
    "# 转置画行\n",
    "data_for_plot.T.plot()\n",
    "plt.show()"
   ]
  },
  {
   "cell_type": "markdown",
   "metadata": {},
   "source": [
    "# 异常值去除"
   ]
  },
  {
   "cell_type": "code",
   "execution_count": null,
   "metadata": {},
   "outputs": [],
   "source": []
  },
  {
   "cell_type": "code",
   "execution_count": 25,
   "metadata": {},
   "outputs": [
    {
     "name": "stderr",
     "output_type": "stream",
     "text": [
      "C:\\ProgramData\\Anaconda3\\envs\\mathematical_modeling\\lib\\site-packages\\ipykernel_launcher.py:8: DeprecationWarning: The default dtype for empty Series will be 'object' instead of 'float64' in a future version. Specify a dtype explicitly to silence this warning.\n",
      "  \n",
      "C:\\ProgramData\\Anaconda3\\envs\\mathematical_modeling\\lib\\site-packages\\ipykernel_launcher.py:34: RuntimeWarning: divide by zero encountered in double_scalars\n",
      "C:\\ProgramData\\Anaconda3\\envs\\mathematical_modeling\\lib\\site-packages\\ipykernel_launcher.py:34: RuntimeWarning: divide by zero encountered in true_divide\n"
     ]
    },
    {
     "name": "stdout",
     "output_type": "stream",
     "text": [
      "Series([], dtype: float64) float64\n",
      "添加行 2\n",
      "添加行 8\n",
      "添加行 9\n",
      "添加行 10\n",
      "添加行 11\n",
      "添加行 16\n",
      "添加行 17\n",
      "添加行 18\n",
      "添加行 29\n",
      "添加行 151\n",
      "添加行 161\n",
      "添加行 163\n",
      "添加行 167\n",
      "添加行 170\n",
      "添加行 174\n",
      "添加行 177\n",
      "添加行 178\n",
      "添加行 182\n",
      "添加行 183\n",
      "添加行 184\n",
      "添加行 187\n",
      "添加行 190\n",
      "添加行 196\n",
      "添加行 386\n",
      "添加行 389\n",
      "添加行 394\n",
      "添加行 395\n",
      "添加行 396\n",
      "添加行 397\n",
      "添加行 398\n",
      "添加行 402\n",
      "添加行 405\n",
      "添加行 597\n",
      "添加行 601\n",
      "添加行 605\n",
      "添加行 610\n",
      "添加行 611\n",
      "添加行 612\n",
      "添加行 613\n",
      "添加行 625\n",
      "添加行 630\n",
      "添加行 638\n",
      "添加行 793\n",
      "添加行 800\n",
      "添加行 817\n",
      "添加行 819\n",
      "添加行 821\n",
      "添加行 826\n",
      "添加行 828\n",
      "添加行 830\n",
      "添加行 832\n",
      "添加行 833\n",
      "添加行 834\n",
      "添加行 835\n",
      "添加行 836\n",
      "添加行 837\n",
      "添加行 838\n",
      "添加行 839\n",
      "添加行 841\n",
      "添加行 842\n",
      "添加行 843\n",
      "添加行 844\n",
      "添加行 846\n",
      "添加行 847\n",
      "添加行 848\n",
      "添加行 868\n",
      "添加行 1032\n",
      "添加行 1038\n",
      "添加行 1041\n",
      "添加行 1045\n",
      "添加行 1048\n",
      "添加行 1049\n",
      "添加行 1051\n",
      "添加行 1052\n",
      "添加行 1053\n",
      "添加行 1055\n",
      "添加行 1057\n",
      "添加行 1059\n",
      "添加行 1060\n",
      "添加行 1062\n",
      "添加行 1067\n",
      "添加行 1073\n",
      "添加行 1075\n",
      "添加行 1076\n",
      "添加行 1079\n",
      "添加行 1080\n",
      "添加行 1282\n",
      "添加行 1294\n",
      "添加行 1295\n",
      "添加行 1296\n",
      "添加行 1297\n",
      "添加行 1302\n",
      "添加行 1304\n",
      "添加行 1307\n",
      "添加行 1313\n",
      "添加行 1315\n",
      "添加行 1319\n",
      "添加行 1326\n",
      "添加行 1522\n",
      "添加行 1523\n",
      "添加行 1526\n",
      "添加行 1527\n",
      "添加行 1528\n",
      "添加行 1529\n",
      "添加行 1530\n",
      "添加行 1531\n",
      "添加行 1534\n",
      "添加行 1536\n",
      "添加行 1537\n",
      "添加行 1541\n",
      "添加行 1542\n",
      "添加行 1544\n",
      "添加行 1721\n",
      "添加行 1725\n",
      "添加行 1731\n",
      "添加行 1734\n",
      "添加行 1738\n",
      "添加行 1740\n",
      "添加行 1743\n",
      "添加行 1745\n",
      "添加行 1748\n",
      "添加行 1750\n",
      "添加行 1754\n",
      "添加行 1758\n",
      "添加行 1759\n",
      "添加行 1940\n",
      "添加行 1944\n",
      "添加行 1949\n",
      "添加行 1951\n",
      "添加行 1953\n",
      "添加行 1954\n",
      "添加行 1955\n",
      "添加行 1959\n",
      "添加行 1965\n",
      "添加行 1966\n",
      "添加行 1968\n",
      "添加行 1969\n",
      "添加行 1971\n",
      "添加行 1973\n",
      "添加行 1974\n",
      "添加行 1976\n",
      "添加行 1977\n",
      "添加行 1978\n",
      "添加行 1981\n",
      "添加行 1982\n",
      "添加行 1989\n",
      "添加行 1991\n",
      "添加行 2184\n",
      "添加行 2185\n",
      "添加行 2186\n",
      "添加行 2193\n",
      "添加行 2196\n",
      "添加行 2197\n",
      "添加行 2198\n",
      "添加行 2199\n",
      "添加行 2200\n",
      "添加行 2201\n",
      "添加行 2202\n",
      "添加行 2203\n",
      "添加行 2208\n",
      "添加行 2397\n",
      "添加行 2404\n",
      "添加行 2406\n",
      "添加行 2411\n",
      "添加行 2413\n",
      "添加行 2416\n",
      "添加行 2418\n",
      "添加行 2420\n",
      "添加行 2421\n",
      "添加行 2422\n",
      "添加行 2423\n",
      "添加行 2426\n",
      "添加行 2428\n",
      "添加行 2430\n",
      "添加行 2431\n",
      "添加行 2432\n",
      "添加行 2433\n",
      "添加行 2435\n",
      "添加行 2438\n",
      "添加行 2441\n",
      "添加行 2445\n",
      "添加行 2446\n",
      "添加行 2447\n",
      "添加行 2448\n",
      "添加行 2449\n",
      "添加行 2452\n",
      "添加行 2453\n",
      "添加行 2458\n",
      "添加行 2459\n",
      "添加行 2462\n",
      "添加行 2471\n",
      "添加行 2606\n",
      "添加行 2612\n",
      "添加行 2613\n",
      "添加行 2614\n",
      "添加行 2615\n",
      "添加行 2616\n",
      "添加行 2621\n",
      "添加行 2624\n",
      "添加行 2625\n",
      "添加行 2626\n",
      "添加行 2627\n",
      "添加行 2629\n",
      "添加行 2631\n",
      "添加行 2633\n",
      "添加行 2634\n",
      "添加行 2640\n",
      "添加行 2642\n",
      "添加行 2644\n",
      "添加行 2825\n",
      "添加行 2828\n",
      "添加行 2831\n",
      "添加行 2836\n",
      "添加行 2844\n",
      "添加行 2848\n",
      "添加行 2849\n",
      "添加行 2851\n",
      "添加行 2852\n",
      "添加行 2853\n",
      "添加行 2855\n",
      "添加行 2856\n",
      "添加行 2858\n",
      "添加行 2859\n",
      "添加行 2860\n",
      "添加行 2861\n",
      "添加行 2862\n",
      "添加行 2864\n",
      "添加行 2865\n",
      "添加行 2866\n",
      "添加行 2869\n",
      "添加行 2875\n",
      "添加行 3015\n",
      "添加行 3028\n",
      "添加行 3032\n",
      "添加行 3033\n",
      "添加行 3034\n",
      "添加行 3035\n",
      "添加行 3038\n",
      "添加行 3039\n",
      "添加行 3041\n",
      "添加行 3042\n",
      "添加行 3228\n",
      "添加行 3240\n",
      "添加行 3247\n",
      "添加行 3250\n",
      "添加行 3253\n",
      "添加行 3254\n",
      "添加行 3256\n",
      "添加行 3258\n",
      "添加行 3263\n",
      "添加行 3264\n",
      "添加行 3267\n",
      "添加行 3270\n",
      "添加行 3274\n",
      "添加行 3439\n",
      "添加行 3448\n",
      "添加行 3450\n",
      "添加行 3451\n",
      "添加行 3454\n",
      "添加行 3459\n",
      "添加行 3462\n",
      "添加行 3467\n",
      "添加行 3468\n",
      "添加行 3470\n",
      "添加行 3474\n",
      "添加行 3475\n",
      "添加行 3476\n",
      "添加行 3481\n",
      "添加行 3674\n",
      "添加行 3675\n",
      "添加行 3678\n",
      "添加行 3679\n",
      "添加行 3680\n",
      "添加行 3681\n",
      "添加行 3683\n",
      "添加行 3685\n",
      "添加行 3686\n",
      "添加行 3688\n",
      "添加行 3689\n",
      "添加行 3693\n",
      "添加行 3699\n",
      "添加行 3702\n",
      "添加行 3704\n",
      "添加行 3705\n",
      "添加行 3708\n",
      "添加行 3710\n",
      "添加行 3876\n",
      "添加行 3886\n",
      "添加行 3887\n",
      "添加行 3891\n",
      "添加行 3893\n",
      "添加行 3895\n",
      "添加行 3896\n",
      "添加行 3899\n",
      "添加行 3902\n",
      "添加行 3903\n",
      "添加行 3906\n",
      "添加行 3907\n",
      "添加行 3908\n",
      "添加行 3911\n",
      "添加行 3915\n",
      "添加行 3916\n",
      "添加行 3918\n",
      "添加行 3919\n",
      "添加行 3920\n",
      "添加行 3922\n",
      "添加行 3923\n",
      "添加行 3924\n",
      "添加行 3926\n",
      "添加行 3933\n",
      "添加行 3934\n",
      "添加行 3946\n",
      "添加行 3947\n",
      "添加行 4067\n",
      "添加行 4068\n",
      "添加行 4070\n",
      "添加行 4078\n",
      "添加行 4079\n",
      "添加行 4080\n",
      "添加行 4083\n",
      "添加行 4084\n",
      "添加行 4085\n",
      "添加行 4086\n",
      "添加行 4087\n",
      "添加行 4088\n",
      "添加行 4089\n",
      "添加行 4090\n",
      "添加行 4093\n",
      "添加行 4094\n",
      "添加行 4096\n",
      "添加行 4098\n",
      "添加行 4099\n",
      "添加行 4102\n",
      "添加行 4103\n",
      "添加行 4281\n",
      "添加行 4287\n",
      "添加行 4289\n",
      "添加行 4292\n",
      "添加行 4295\n",
      "添加行 4298\n",
      "添加行 4301\n",
      "添加行 4478\n",
      "添加行 4480\n",
      "添加行 4484\n",
      "添加行 4486\n",
      "添加行 4488\n",
      "添加行 4489\n",
      "添加行 4490\n",
      "添加行 4491\n",
      "添加行 4492\n",
      "添加行 4494\n",
      "添加行 4495\n",
      "添加行 4504\n",
      "添加行 4676\n",
      "添加行 4685\n",
      "添加行 4689\n",
      "添加行 4690\n",
      "添加行 4691\n",
      "添加行 4692\n",
      "添加行 4694\n",
      "添加行 4695\n",
      "添加行 4697\n",
      "添加行 4699\n",
      "添加行 4700\n",
      "添加行 4703\n",
      "添加行 4706\n",
      "添加行 4710\n",
      "添加行 4713\n",
      "添加行 4717\n",
      "添加行 4899\n",
      "添加行 4903\n",
      "添加行 4904\n",
      "添加行 4905\n",
      "添加行 4908\n",
      "添加行 4911\n",
      "添加行 4913\n",
      "添加行 4914\n",
      "添加行 4916\n",
      "添加行 4917\n",
      "添加行 4919\n",
      "添加行 5113\n",
      "添加行 5116\n",
      "添加行 5119\n",
      "添加行 5125\n",
      "添加行 5127\n",
      "添加行 5128\n",
      "添加行 5129\n",
      "添加行 5130\n",
      "添加行 5133\n",
      "添加行 5135\n",
      "添加行 5138\n",
      "添加行 5139\n",
      "添加行 5141\n",
      "添加行 5143\n",
      "添加行 5144\n",
      "添加行 5147\n",
      "添加行 5148\n",
      "添加行 5149\n",
      "添加行 5153\n",
      "添加行 5321\n",
      "添加行 5323\n",
      "添加行 5326\n",
      "添加行 5328\n",
      "添加行 5329\n",
      "添加行 5331\n",
      "添加行 5334\n",
      "添加行 5335\n",
      "添加行 5336\n",
      "添加行 5338\n",
      "添加行 5339\n",
      "添加行 5341\n",
      "添加行 5342\n",
      "添加行 5343\n",
      "添加行 5344\n",
      "添加行 5345\n",
      "添加行 5346\n",
      "添加行 5347\n",
      "添加行 5348\n",
      "添加行 5349\n",
      "添加行 5351\n",
      "添加行 5352\n",
      "添加行 5353\n",
      "添加行 5357\n",
      "添加行 5365\n",
      "添加行 5370\n",
      "添加行 5521\n",
      "添加行 5525\n",
      "添加行 5526\n",
      "添加行 5527\n",
      "添加行 5528\n",
      "添加行 5529\n",
      "添加行 5531\n",
      "添加行 5533\n",
      "添加行 5537\n",
      "添加行 5538\n",
      "添加行 5540\n",
      "添加行 5541\n",
      "添加行 5542\n",
      "添加行 5545\n",
      "添加行 5546\n",
      "添加行 5548\n",
      "添加行 5549\n",
      "添加行 5555\n",
      "添加行 5556\n",
      "添加行 5731\n",
      "0    5731\n",
      "0    5556\n",
      "0    5555\n",
      "0    5549\n",
      "0    5548\n",
      "     ... \n",
      "0      10\n",
      "0       9\n",
      "0       8\n",
      "0       7\n",
      "0       2\n",
      "Length: 451, dtype: int32\n",
      "5741\n",
      "5290\n"
     ]
    }
   ],
   "source": [
    "#先进行方差检验，若为零则进行阈值检验，若不为零则进行组合检验，然后进行方差检验\n",
    "# #以最大值的百分之九十五为界限\n",
    "# data.max() #最值、累加\n",
    "# data['speed'].max()\n",
    "# threshold_speed = data['speed'].max() * 0.95\n",
    "# data.loc[data['speed'] >= threshold_speed]\n",
    "from pandas import Series\n",
    "s= pd.Series()\n",
    "print(s,s.dtype)\n",
    "for outliercount in range(2 , data.shape[0]):\n",
    "#     print(outliercount)\n",
    "#     tmp = data.loc[outliercount,[\"speed\"]].values.astype(float) - data.loc[outliercount - 1,[\"speed\"]].values.astype(float)\n",
    "#     print(tmp,tmp.dtype)\n",
    "    if ( (data.loc[outliercount,[\"speed\"]].values.astype(float) - data.loc[outliercount-1,[\"speed\"]].values.astype(float))**2 ==0 and \n",
    "        (data.loc[outliercount,[\"volume\"]].values.astype(float) - data.loc[outliercount-1,[\"volume\"]].values.astype(float))**2 ==0 and \n",
    "        (data.loc[outliercount,[\"occupancy\"]].values.astype(float) - data.loc[outliercount-1,[\"occupancy\"]].values.astype(float))**2 ==0) :\n",
    "        #阈值检测设置速度：0-140；流量：0-225；占用率：0-100；\n",
    "        if (0<= data.loc[outliercount,[\"speed\"]].values <= 140) & (0<= data.loc[outliercount,[\"volume\"]].values <= 225) & (0<= data.loc[outliercount,[\"occupancy\"]].values <= 100) :#阈值检验\n",
    "            pass\n",
    "#             print(\"阈值检测通过\") #阈值检测通过\n",
    "        else : \n",
    "            s= s.append(Series([outliercount]))#添加该行标记到series，之后删除该行数据\n",
    "            print(\"添加行\", outliercount)\n",
    "    elif ((data.loc[outliercount,[\"speed\"]].values ==0 and data.loc[outliercount,[\"volume\"]].values ==0 and data.loc[outliercount,[\"occupancy\"]].values !=0) or \n",
    "            (data.loc[outliercount,[\"speed\"]].values ==0 and data.loc[outliercount,[\"volume\"]].values !=0 and data.loc[outliercount,[\"occupancy\"]].values ==0) or \n",
    "            (data.loc[outliercount,[\"speed\"]].values !=0 and data.loc[outliercount,[\"volume\"]].values ==0 and data.loc[outliercount,[\"occupancy\"]].values ==0) or \n",
    "            (data.loc[outliercount,[\"speed\"]].values !=0 and data.loc[outliercount,[\"volume\"]].values !=0 and data.loc[outliercount,[\"occupancy\"]].values ==0) or \n",
    "            (data.loc[outliercount,[\"speed\"]].values ==0 and data.loc[outliercount,[\"volume\"]].values !=0 and data.loc[outliercount,[\"occupancy\"]].values !=0)) :\n",
    "        s= s.append(Series([outliercount])) #加该行标记到series，之后删除该行数据\n",
    "        print(\"添加行\", outliercount)\n",
    "    else :\n",
    "        #组合检验+阈值检验\n",
    "        #组合检验（注意量纲）：（速度*1000/60）*（占用率*5）/（流量*5）=结果，结果：0-2038\n",
    "        Combination_testing = (data.loc[outliercount,[\"speed\"]].values*1000/60)*(data.loc[outliercount,[\"occupancy\"]].values*5)/(data.loc[outliercount,[\"volume\"]].values*5)\n",
    "        if (0<= Combination_testing <=2038) :\n",
    "            pass\n",
    "#             print(\"组合检验通过\") #组合检验通过\n",
    "        else :\n",
    "            s= s.append(Series([outliercount])) #添加该行标记到series，之后删除该行数据\n",
    "        if (0<= data.loc[outliercount,[\"speed\"]].values <= 140) & (0<= data.loc[outliercount,[\"volume\"]].values <= 225) & (0<= data.loc[outliercount,[\"occupancy\"]].values <= 100) :#阈值检验\n",
    "            pass\n",
    "#             print(\"阈值检测通过\") #阈值检测通过\n",
    "        else : \n",
    "            s= s.append(Series([outliercount])) #添加该行标记到series，之后删除该行数据\n",
    "            print(\"添加行\", outliercount)\n",
    "s = s.astype('int')\n",
    "s = s.sort_values(ascending=False)        \n",
    "print(s)        \n",
    "#删除对应列数据\n",
    "print(data.shape[0])\n",
    "data.drop(s,inplace=True) #根据S的编号删除\n",
    "print(data.shape[0])"
   ]
  },
  {
   "cell_type": "markdown",
   "metadata": {},
   "source": [
    "# 保存数据"
   ]
  },
  {
   "cell_type": "code",
   "execution_count": 26,
   "metadata": {},
   "outputs": [],
   "source": [
    "data.to_csv('data 2_change.csv')      #写入csv文件"
   ]
  },
  {
   "cell_type": "code",
   "execution_count": null,
   "metadata": {},
   "outputs": [],
   "source": []
  },
  {
   "cell_type": "code",
   "execution_count": null,
   "metadata": {},
   "outputs": [],
   "source": []
  },
  {
   "cell_type": "code",
   "execution_count": null,
   "metadata": {},
   "outputs": [],
   "source": []
  },
  {
   "cell_type": "code",
   "execution_count": null,
   "metadata": {},
   "outputs": [],
   "source": []
  },
  {
   "cell_type": "code",
   "execution_count": null,
   "metadata": {},
   "outputs": [],
   "source": []
  },
  {
   "cell_type": "code",
   "execution_count": 73,
   "metadata": {},
   "outputs": [
    {
     "name": "stdout",
     "output_type": "stream",
     "text": [
      "8635\n",
      "8522\n"
     ]
    }
   ],
   "source": [
    "print(data.shape[0])\n",
    "data.drop(s,inplace=True)\n",
    "# for i in range(s.shape[0]):\n",
    "#     print(s[])\n",
    "#     data.drop()\n",
    "\n",
    "print(data.shape[0])"
   ]
  },
  {
   "cell_type": "code",
   "execution_count": null,
   "metadata": {},
   "outputs": [],
   "source": []
  },
  {
   "cell_type": "markdown",
   "metadata": {},
   "source": [
    "# 是否显示全部print数据"
   ]
  },
  {
   "cell_type": "code",
   "execution_count": 59,
   "metadata": {
    "collapsed": true,
    "jupyter": {
     "outputs_hidden": true
    }
   },
   "outputs": [
    {
     "name": "stdout",
     "output_type": "stream",
     "text": [
      "0    8404\n",
      "0    8373\n",
      "0    8003\n",
      "0    7792\n",
      "0    7792\n",
      "0    7772\n",
      "0    7769\n",
      "0    7481\n",
      "0    7211\n",
      "0    6962\n",
      "0    6943\n",
      "0    6902\n",
      "0    6867\n",
      "0    6626\n",
      "0    6176\n",
      "0    6066\n",
      "0    5198\n",
      "0    4769\n",
      "0    4621\n",
      "0    4064\n",
      "0    3194\n",
      "0    3193\n",
      "0    3192\n",
      "0    3016\n",
      "0    3015\n",
      "0    3014\n",
      "0    2992\n",
      "0    2991\n",
      "0    2990\n",
      "0    2989\n",
      "0    2988\n",
      "0    2987\n",
      "0    2986\n",
      "0    2985\n",
      "0    2984\n",
      "0    2983\n",
      "0    2982\n",
      "0    2981\n",
      "0    2980\n",
      "0    2965\n",
      "0    2964\n",
      "0    2962\n",
      "0    2961\n",
      "0    2959\n",
      "0    2958\n",
      "0    2956\n",
      "0    2955\n",
      "0    2954\n",
      "0    2952\n",
      "0    2951\n",
      "0    2950\n",
      "0    2949\n",
      "0    2948\n",
      "0    2947\n",
      "0    2946\n",
      "0    2945\n",
      "0    2944\n",
      "0    2943\n",
      "0    2942\n",
      "0    2941\n",
      "0    2940\n",
      "0    2939\n",
      "0    2938\n",
      "0    2937\n",
      "0    2936\n",
      "0    2935\n",
      "0    2934\n",
      "0    2933\n",
      "0    2932\n",
      "0    2931\n",
      "0    2930\n",
      "0    2929\n",
      "0    2928\n",
      "0    2927\n",
      "0    2926\n",
      "0    2925\n",
      "0    2924\n",
      "0    2921\n",
      "0    2920\n",
      "0    2919\n",
      "0    2918\n",
      "0    2917\n",
      "0    2916\n",
      "0    2915\n",
      "0    2914\n",
      "0    2913\n",
      "0    2911\n",
      "0    2908\n",
      "0    2907\n",
      "0    2906\n",
      "0    2905\n",
      "0    2904\n",
      "0    2857\n",
      "0    2613\n",
      "0    2350\n",
      "0    2331\n",
      "0    2126\n",
      "0    2079\n",
      "0    2054\n",
      "0    2053\n",
      "0    2052\n",
      "0    2029\n",
      "0    2025\n",
      "0    1679\n",
      "0    1147\n",
      "0    1146\n",
      "0    1145\n",
      "0    1144\n",
      "0    1144\n",
      "0    1143\n",
      "0    1142\n",
      "0    1142\n",
      "0    1141\n",
      "0    1140\n",
      "0      39\n",
      "0       2\n",
      "0       2\n",
      "dtype: int32 int32\n"
     ]
    }
   ],
   "source": [
    "#显示所有列\n",
    "pd.set_option('display.max_columns', None)\n",
    "#显示所有行\n",
    "pd.set_option('display.max_rows', None)\n",
    "#设置value的显示长度为100，默认为50\n",
    "\n",
    "print(s,s.dtype)"
   ]
  },
  {
   "cell_type": "code",
   "execution_count": null,
   "metadata": {},
   "outputs": [],
   "source": []
  },
  {
   "cell_type": "code",
   "execution_count": null,
   "metadata": {},
   "outputs": [],
   "source": []
  },
  {
   "cell_type": "code",
   "execution_count": null,
   "metadata": {},
   "outputs": [],
   "source": []
  },
  {
   "cell_type": "code",
   "execution_count": null,
   "metadata": {},
   "outputs": [],
   "source": []
  },
  {
   "cell_type": "code",
   "execution_count": 45,
   "metadata": {},
   "outputs": [
    {
     "name": "stdout",
     "output_type": "stream",
     "text": [
      "speed    121.740294\n",
      "Name: 9, dtype: object\n"
     ]
    }
   ],
   "source": [
    "speedtmp = data.loc[9,[\"speed\"]]\n",
    "print(speedtmp)"
   ]
  },
  {
   "cell_type": "code",
   "execution_count": 2,
   "metadata": {},
   "outputs": [
    {
     "data": {
      "application/vnd.jupyter.widget-view+json": {
       "model_id": "fdeffddc1bbe4e3bbc9ed0121b5aa969",
       "version_major": 2,
       "version_minor": 0
      },
      "text/plain": [
       "Canvas(toolbar=Toolbar(toolitems=[('Home', 'Reset original view', 'home', 'home'), ('Back', 'Back to previous …"
      ]
     },
     "metadata": {},
     "output_type": "display_data"
    }
   ],
   "source": [
    "%matplotlib widget\n",
    "import numpy as np\n",
    "import matplotlib.pyplot as plt\n",
    "from IPython.display import clear_output\n",
    "\n",
    "\n",
    "n = 10\n",
    "a = np.zeros((n, n))\n",
    "plt.figure()\n",
    "\n",
    "for i in range(n):\n",
    "    plt.imshow(a)\n",
    "    plt.show()\n",
    "    a[i, i] = 1\n",
    "    clear_output(wait=True)\n",
    "plt.show()"
   ]
  },
  {
   "cell_type": "code",
   "execution_count": 4,
   "metadata": {},
   "outputs": [
    {
     "data": {
      "application/vnd.jupyter.widget-view+json": {
       "model_id": "fd9cc6829e5543b88f31b5835131edb5",
       "version_major": 2,
       "version_minor": 0
      },
      "text/plain": [
       "Canvas(toolbar=Toolbar(toolitems=[('Home', 'Reset original view', 'home', 'home'), ('Back', 'Back to previous …"
      ]
     },
     "metadata": {},
     "output_type": "display_data"
    },
    {
     "data": {
      "text/plain": [
       "[<matplotlib.lines.Line2D at 0x186e24487c8>]"
      ]
     },
     "execution_count": 4,
     "metadata": {},
     "output_type": "execute_result"
    }
   ],
   "source": [
    "%matplotlib inline\n",
    "%matplotlib widget\n",
    "import matplotlib.pyplot as plt\n",
    "plt.figure()\n",
    "x = [1,2,3]\n",
    "y = [4,5,6]\n",
    "plt.plot(x,y)"
   ]
  },
  {
   "cell_type": "code",
   "execution_count": null,
   "metadata": {},
   "outputs": [],
   "source": []
  },
  {
   "cell_type": "code",
   "execution_count": 1,
   "metadata": {},
   "outputs": [
    {
     "data": {
      "text/plain": [
       "'C:\\\\ProgramData\\\\Anaconda3\\\\envs\\\\mathematical_modeling\\\\python.exe'"
      ]
     },
     "execution_count": 1,
     "metadata": {},
     "output_type": "execute_result"
    }
   ],
   "source": [
    "import sys\n",
    "sys.path   #查看导入包的路径\n",
    "sys.executable  #查看使用kernel的路径\n"
   ]
  },
  {
   "cell_type": "code",
   "execution_count": null,
   "metadata": {},
   "outputs": [],
   "source": []
  },
  {
   "cell_type": "code",
   "execution_count": null,
   "metadata": {},
   "outputs": [],
   "source": []
  }
 ],
 "metadata": {
  "kernelspec": {
   "display_name": "Python 3",
   "language": "python",
   "name": "python3"
  },
  "language_info": {
   "codemirror_mode": {
    "name": "ipython",
    "version": 3
   },
   "file_extension": ".py",
   "mimetype": "text/x-python",
   "name": "python",
   "nbconvert_exporter": "python",
   "pygments_lexer": "ipython3",
   "version": "3.7.7"
  }
 },
 "nbformat": 4,
 "nbformat_minor": 4
}
